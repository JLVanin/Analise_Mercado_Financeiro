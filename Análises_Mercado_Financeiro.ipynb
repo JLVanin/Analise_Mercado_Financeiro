{
 "cells": [
  {
   "cell_type": "markdown",
   "metadata": {
    "id": "BT0F2-alNnyz"
   },
   "source": [
    "# 5. Análises do mercado financeiro"
   ]
  },
  {
   "cell_type": "markdown",
   "metadata": {
    "id": "iCDLUFHSNny3"
   },
   "source": [
    "## 5.1. Que análises são essas?"
   ]
  },
  {
   "cell_type": "markdown",
   "metadata": {
    "id": "rI7sWsNcNny3"
   },
   "source": [
    "Agora que já entendemos os aspectos principais dos dados de mercado financeiro, e já conseguimos utilizar diversas bibliotecas para obter dados de mercado financeiro, chegou a hora de fazer algumas análises básicas.\n",
    "\n",
    "Utilizando ferramentas de dados e de visualização, conseguimos explorar os dados para obter insights. Com isso, vamos mostrar alguns exemplos da aplicação do Python no mercado financeiro.\n",
    "\n",
    "Realizando uma análise exploratória dos dados, vamos calcular métricas importantes no mercado financeiro, como retorno, volatilidade, drawdown, distribuições, skewness, dentre outras.\n"
   ]
  },
  {
   "cell_type": "markdown",
   "metadata": {
    "id": "Zq6C2kpzNny4"
   },
   "source": [
    "## 5.2. Obtenção dos dados"
   ]
  },
  {
   "cell_type": "markdown",
   "metadata": {
    "id": "gumCCQv4Nny4"
   },
   "source": [
    "Utilizando a biblioteca yfinance, vamos obter os dados de negociação para algum papel, como por exemplo PETR4"
   ]
  },
  {
   "cell_type": "code",
   "execution_count": null,
   "metadata": {
    "id": "5e41ky12Nny5"
   },
   "outputs": [],
   "source": [
    "import yfinance as yf\n",
    "import pandas as pd\n",
    "import numpy as np\n",
    "import matplotlib.pyplot as plt"
   ]
  },
  {
   "cell_type": "markdown",
   "metadata": {
    "id": "LImvQL-3Nny6"
   },
   "source": [
    "Você pode obter outros ativos que quiser, como ações, FIIs, ETFs, BDRs, etc."
   ]
  },
  {
   "cell_type": "code",
   "execution_count": null,
   "metadata": {
    "id": "gN7FqQNLNny6",
    "outputId": "dd368296-cef7-4fbb-9bd5-048018739130"
   },
   "outputs": [],
   "source": [
    "petro = yf.download(\"PETR4.SA\", start=\"2017-01-01\", end=\"2022-02-10\")"
   ]
  },
  {
   "cell_type": "code",
   "execution_count": null,
   "metadata": {
    "id": "4dqkghiNNny7",
    "outputId": "d252d9b4-c030-4965-fd93-918972960783"
   },
   "outputs": [],
   "source": [
    "petro.Close.plot();"
   ]
  },
  {
   "cell_type": "markdown",
   "metadata": {
    "id": "ZdKad7MUNny8"
   },
   "source": [
    "## 5.3. Médias móveis"
   ]
  },
  {
   "cell_type": "markdown",
   "metadata": {
    "id": "9VHxr0HfNny8"
   },
   "source": [
    "### 5.3.1. O que são médias móveis?\n",
    "\n",
    "Porque elas são tão importantes no mercado financeiro?\n",
    "\n",
    "Algumas métricas com as quais podemos criar médias móveis: preço, retorno, volatilidade, drawdown\n"
   ]
  },
  {
   "cell_type": "markdown",
   "metadata": {
    "id": "In_CiTayNny9"
   },
   "source": [
    "### 5.3.2. Médias móveis do preço"
   ]
  },
  {
   "cell_type": "code",
   "execution_count": null,
   "metadata": {
    "id": "C8FESX60Nny9",
    "outputId": "72fcc43d-3117-4b81-fde0-5000250bea15"
   },
   "outputs": [],
   "source": [
    "petro.Close.head(10)"
   ]
  },
  {
   "cell_type": "code",
   "execution_count": null,
   "metadata": {
    "id": "SsXk-thJNny-",
    "outputId": "6f3b9dbb-e5cf-481b-b298-dc507374682f"
   },
   "outputs": [],
   "source": [
    "petro.Close.rolling(5).mean()"
   ]
  },
  {
   "cell_type": "code",
   "execution_count": null,
   "metadata": {
    "id": "mYm1B6vRNny-",
    "outputId": "80a73913-af43-4e1e-92f0-8bb1805701b0"
   },
   "outputs": [],
   "source": [
    "petro.Close.plot()"
   ]
  },
  {
   "cell_type": "code",
   "execution_count": null,
   "metadata": {
    "id": "_6w7LL4nNny-",
    "outputId": "7de5c169-9406-4a58-ec15-46d061965b40"
   },
   "outputs": [],
   "source": [
    "petro.Close.rolling(5).mean().plot()"
   ]
  },
  {
   "cell_type": "code",
   "execution_count": null,
   "metadata": {
    "id": "NREvYcEiNny_",
    "outputId": "4ac5fc2e-de42-4dbe-d3d6-3c110f88ea93"
   },
   "outputs": [],
   "source": [
    "petro.Close.rolling(10).mean().plot()"
   ]
  },
  {
   "cell_type": "code",
   "execution_count": null,
   "metadata": {
    "id": "2eEfD-FTNny_",
    "outputId": "36a1e871-7275-4ef6-89b8-1254738a1e01"
   },
   "outputs": [],
   "source": [
    "petro.Close.rolling(50).mean().plot()"
   ]
  },
  {
   "cell_type": "code",
   "execution_count": null,
   "metadata": {
    "id": "y70CgH5eNny_",
    "outputId": "d06d1cf7-763f-45be-99ea-7d6345c4b572"
   },
   "outputs": [],
   "source": [
    "petro.Close.rolling(100).mean().plot()"
   ]
  },
  {
   "cell_type": "markdown",
   "metadata": {
    "id": "1ncnaXhdNny_"
   },
   "source": [
    "## 5.4. Retornos diários"
   ]
  },
  {
   "cell_type": "code",
   "execution_count": null,
   "metadata": {
    "id": "w77VhEgjNnzA",
    "outputId": "2cdacc59-77e3-4450-e4b1-a9adeead071a"
   },
   "outputs": [],
   "source": [
    "petro.head()"
   ]
  },
  {
   "cell_type": "markdown",
   "metadata": {
    "id": "_WF3SRXeNnzA"
   },
   "source": [
    "Calculando os retornos diários"
   ]
  },
  {
   "cell_type": "code",
   "execution_count": null,
   "metadata": {
    "id": "taOQyukyNnzA",
    "outputId": "4119e208-6a60-4f16-e4d8-92b230300482"
   },
   "outputs": [],
   "source": [
    "petro['Adj Close'].pct_change()"
   ]
  },
  {
   "cell_type": "code",
   "execution_count": null,
   "metadata": {
    "id": "CPCxcHwSNnzB",
    "outputId": "3d00e86f-ac60-4d53-ab93-6c0e7eb5d887"
   },
   "outputs": [],
   "source": [
    "retornos = pd.DataFrame(petro['Adj Close'].pct_change())\n",
    "retornos"
   ]
  },
  {
   "cell_type": "markdown",
   "metadata": {
    "id": "w0MzB_ZMNnzB"
   },
   "source": [
    "Gráfico dos retornos diários"
   ]
  },
  {
   "cell_type": "code",
   "execution_count": null,
   "metadata": {
    "id": "xadv1inFNnzB",
    "outputId": "455ed2f6-92d8-45d3-fb09-dd08ebc46908"
   },
   "outputs": [],
   "source": [
    "retornos.plot()"
   ]
  },
  {
   "cell_type": "markdown",
   "metadata": {
    "id": "mwvsSIjYNnzB"
   },
   "source": [
    "Retorno diário médio"
   ]
  },
  {
   "cell_type": "code",
   "execution_count": null,
   "metadata": {
    "id": "f7pGOLJ5NnzB",
    "outputId": "b3cdf507-93ec-4928-b432-e52dccacd142"
   },
   "outputs": [],
   "source": [
    "retornos.mean()"
   ]
  },
  {
   "cell_type": "markdown",
   "metadata": {
    "id": "gxXIPUiWNnzB"
   },
   "source": [
    "Média móvel dos retornos"
   ]
  },
  {
   "cell_type": "code",
   "execution_count": null,
   "metadata": {
    "id": "m1BIbn9rNnzC",
    "outputId": "d514b551-37d8-46d9-f1bf-f73cd3e01884"
   },
   "outputs": [],
   "source": [
    "retornos.rolling(50).mean().plot()"
   ]
  },
  {
   "cell_type": "markdown",
   "metadata": {
    "id": "UTDF10kHNnzC"
   },
   "source": [
    "## 5.5. Volatilidade\n",
    "\n",
    "A medida mais básica de volatilidade que podemos ter é o desvio padrão"
   ]
  },
  {
   "cell_type": "markdown",
   "metadata": {
    "id": "nswJWMfVNnzC"
   },
   "source": [
    "Calculando o desvio padrão dos retornos diários"
   ]
  },
  {
   "cell_type": "code",
   "execution_count": null,
   "metadata": {
    "id": "OGOwyRsPNnzC",
    "outputId": "d0f54391-7dea-41a0-c333-1f43d844d51e"
   },
   "outputs": [],
   "source": [
    "retornos.std()"
   ]
  },
  {
   "cell_type": "markdown",
   "metadata": {
    "id": "sXdYW4pZNnzC"
   },
   "source": [
    "Portanto, essa é a volatilidade de PETR4 no período"
   ]
  },
  {
   "cell_type": "markdown",
   "metadata": {
    "id": "JbIzMJOcNnzC"
   },
   "source": [
    "E se quiséssemos visualizar a volatilidade em janelas de tempo, isto é, o comportamento da volatilidade de PETR4 ao longo de períodos específicos de tempo, por exemplo, 10 dias?"
   ]
  },
  {
   "cell_type": "code",
   "execution_count": null,
   "metadata": {
    "id": "daz2q-HhNnzD"
   },
   "outputs": [],
   "source": [
    "janelas_vol = retornos.rolling(10).std()"
   ]
  },
  {
   "cell_type": "code",
   "execution_count": null,
   "metadata": {
    "id": "paxOyZi6NnzD",
    "outputId": "fd3de9a4-82cc-4ce9-b402-01d634e1da74"
   },
   "outputs": [],
   "source": [
    "janelas_vol.plot()"
   ]
  },
  {
   "cell_type": "markdown",
   "metadata": {
    "id": "UyEb6o2XNnzD"
   },
   "source": [
    "## 5.6. Métricas estatísticas"
   ]
  },
  {
   "cell_type": "code",
   "execution_count": null,
   "metadata": {
    "id": "R-ZfyxAgNnzD",
    "outputId": "1fbeff37-a6cc-4da5-ae93-f4f1564bb3bb"
   },
   "outputs": [],
   "source": [
    "retornos.describe()"
   ]
  },
  {
   "cell_type": "markdown",
   "metadata": {
    "id": "hOLyv8heNnzD"
   },
   "source": [
    "## 5.7. Distribuição dos retornos"
   ]
  },
  {
   "cell_type": "markdown",
   "metadata": {
    "id": "jnpGoZaTNnzE"
   },
   "source": [
    "Forma de entender onde os retornos se \"concentram\" com o tempo"
   ]
  },
  {
   "cell_type": "code",
   "execution_count": null,
   "metadata": {
    "id": "kgIxRC_rNnzE",
    "outputId": "35531cd9-adff-4556-c8d6-92e40f90e2bd"
   },
   "outputs": [],
   "source": [
    "retornos.plot.hist(bins = 100);"
   ]
  },
  {
   "cell_type": "markdown",
   "metadata": {
    "id": "QfSOGEdXNnzE"
   },
   "source": [
    "## 5.8. Drawdown em janela de 30 dias"
   ]
  },
  {
   "cell_type": "markdown",
   "metadata": {
    "id": "LW4BydGiNnzE"
   },
   "source": [
    "Perda máxima em um determinado período - distância entre ganho máximo e a mínima"
   ]
  },
  {
   "cell_type": "code",
   "execution_count": null,
   "metadata": {
    "id": "2j-E8guFNnzE"
   },
   "outputs": [],
   "source": [
    "dd_30 = retornos.rolling(30).min()"
   ]
  },
  {
   "cell_type": "code",
   "execution_count": null,
   "metadata": {
    "id": "v7pN6-Y5NnzE",
    "outputId": "07ed4ff9-5f19-481f-9953-cb62fea86157"
   },
   "outputs": [],
   "source": [
    "dd_30.plot();"
   ]
  },
  {
   "cell_type": "markdown",
   "metadata": {
    "id": "AZExxqOHNnzF"
   },
   "source": [
    "## 5.9. Métricas de retorno acumulado"
   ]
  },
  {
   "cell_type": "code",
   "execution_count": null,
   "metadata": {
    "id": "ssirc9JRNnzF",
    "outputId": "f9b602e9-e455-44e7-fa1d-f9799e3034d8"
   },
   "outputs": [],
   "source": [
    "# Calculando o retorno acumulado\n",
    "ret_acum = (retornos + 1).cumprod()\n",
    "ret_acum"
   ]
  },
  {
   "cell_type": "code",
   "execution_count": null,
   "metadata": {
    "id": "ROaT7PdSNnzF",
    "outputId": "8ad8ac75-c75f-48ca-c5de-8ebdbe439ce5"
   },
   "outputs": [],
   "source": [
    "ret_acum.plot(figsize = (12,6))"
   ]
  },
  {
   "cell_type": "code",
   "execution_count": null,
   "metadata": {
    "id": "f5l2vZjNNnzF",
    "outputId": "d8e27689-ff0d-4c74-b334-088986d18240"
   },
   "outputs": [],
   "source": [
    "# Vamos calcular agora o cumulativo máximo, ou seja, os picos atingidos ao longo do tempo\n",
    "picos = ret_acum.cummax()\n",
    "picos"
   ]
  },
  {
   "cell_type": "code",
   "execution_count": null,
   "metadata": {
    "id": "KsDQhFmzNnzF",
    "outputId": "9f695df7-e3ff-4890-b34e-21b19ce655fa"
   },
   "outputs": [],
   "source": [
    "picos.plot(figsize = (12,6))"
   ]
  },
  {
   "cell_type": "markdown",
   "metadata": {
    "id": "s_ugzr4cNnzG"
   },
   "source": [
    "#### Drawdown"
   ]
  },
  {
   "cell_type": "markdown",
   "metadata": {
    "id": "qX4l6PYwNnzG"
   },
   "source": [
    "Forma alternativa de cálculo do drawdown, considerando a diferença entre o retorno acumulado e os picos."
   ]
  },
  {
   "cell_type": "code",
   "execution_count": null,
   "metadata": {
    "id": "RjDR5F_YNnzG",
    "outputId": "2319fda6-c2ee-4a31-b741-92f406ce1357"
   },
   "outputs": [],
   "source": [
    "drawdown = (ret_acum - picos)/picos\n",
    "drawdown.plot()"
   ]
  },
  {
   "cell_type": "markdown",
   "metadata": {
    "id": "l-Ey_ICcNnzG"
   },
   "source": [
    "Qual o drawdown máximo? É justamente o valor mais 'fundo' que o gráfico acima atinge"
   ]
  },
  {
   "cell_type": "code",
   "execution_count": null,
   "metadata": {
    "id": "89y8kmW3NnzG"
   },
   "outputs": [],
   "source": [
    "max_ddw = drawdown.min()"
   ]
  },
  {
   "cell_type": "code",
   "execution_count": null,
   "metadata": {
    "id": "y8PT275vNnzG",
    "outputId": "43c0f643-02b6-4ffb-e95b-8c4130087743"
   },
   "outputs": [],
   "source": [
    "max_ddw*100"
   ]
  },
  {
   "cell_type": "code",
   "execution_count": null,
   "metadata": {
    "id": "MTumJ49NNnzH"
   },
   "outputs": [],
   "source": [
    "retornos['Retorno Acumulado'] = ret_acum\n",
    "retornos['Picos'] = picos\n",
    "retornos['Drawdowns'] = drawdown"
   ]
  },
  {
   "cell_type": "code",
   "execution_count": null,
   "metadata": {
    "id": "fbM9NhalNnzH",
    "outputId": "c672c449-e331-4dd1-cd19-a47e1d55635d"
   },
   "outputs": [],
   "source": [
    "retornos.head()"
   ]
  },
  {
   "cell_type": "code",
   "execution_count": null,
   "metadata": {
    "id": "orLN5jn_NnzH",
    "outputId": "f6b0cd05-8c71-43a2-9ee9-ce796eeb29c6"
   },
   "outputs": [],
   "source": [
    "retornos[['Retorno Acumulado', 'Picos']].plot(figsize = (12,6))"
   ]
  },
  {
   "cell_type": "markdown",
   "metadata": {
    "id": "XdzOTKsnNnzH"
   },
   "source": [
    "## 5.10. Normalização"
   ]
  },
  {
   "cell_type": "markdown",
   "metadata": {
    "id": "RQDModQbNnzH"
   },
   "source": [
    "Para explicar o conceito de normalização, vamos obter dados de vários papéis ao mesmo tempo para ficar mais fácil de exemplificar"
   ]
  },
  {
   "cell_type": "code",
   "execution_count": null,
   "metadata": {
    "id": "teAeIkHLNnzH"
   },
   "outputs": [],
   "source": [
    "acoes = ['PETR4.SA', 'WEGE3.SA', 'MGLU3.SA', 'LREN3.SA', 'VALE3.SA', 'BPAC11.SA','OIBR3.SA']"
   ]
  },
  {
   "cell_type": "code",
   "execution_count": null,
   "metadata": {
    "id": "4jDEbNF8NnzI",
    "outputId": "c110ec44-5bed-424a-913b-c15c6a9ec3cf"
   },
   "outputs": [],
   "source": [
    "data = yf.download(acoes, start=\"2019-01-01\", end=\"2022-05-15\")['Adj Close']"
   ]
  },
  {
   "cell_type": "code",
   "execution_count": null,
   "metadata": {
    "id": "8s0NYUS3NnzI",
    "outputId": "6cdb5d8e-935f-4e67-97c0-d155cf029c6a"
   },
   "outputs": [],
   "source": [
    "data.head()"
   ]
  },
  {
   "cell_type": "code",
   "execution_count": null,
   "metadata": {
    "id": "ARZHca4cNnzI",
    "outputId": "7bb6e2a0-93c3-4e02-f382-d368bbbe5c60"
   },
   "outputs": [],
   "source": [
    "data.plot(figsize = (12,6))"
   ]
  },
  {
   "cell_type": "markdown",
   "metadata": {
    "id": "RHWHHVr0NnzI"
   },
   "source": [
    "Observe que é 'injusto' realizar uma comparação de um papel numa magnitude mais alta com outros que possuem o preço menor."
   ]
  },
  {
   "cell_type": "code",
   "execution_count": null,
   "metadata": {
    "id": "3WhKoh9_NnzI",
    "outputId": "db357701-c9bb-4ec7-b688-2aa176940c14"
   },
   "outputs": [],
   "source": [
    "data.plot(figsize = (8,8))\n",
    "plt.title('Ativos sem normalização', fontsize = 15)\n",
    "plt.xlabel('Data')\n",
    "plt.ylabel('Preço')\n",
    "plt.show()"
   ]
  },
  {
   "cell_type": "markdown",
   "metadata": {
    "id": "nQMAQVoXNnzJ"
   },
   "source": [
    "Introduzindo conceito da normalização"
   ]
  },
  {
   "cell_type": "code",
   "execution_count": null,
   "metadata": {
    "id": "3UBT--B3NnzJ",
    "outputId": "95fe9691-8316-4798-e27c-e9467d8478e2"
   },
   "outputs": [],
   "source": [
    "data.head()"
   ]
  },
  {
   "cell_type": "code",
   "execution_count": null,
   "metadata": {
    "id": "4Yb_veznNnzJ"
   },
   "outputs": [],
   "source": [
    "normalizado = data/data.iloc[0]"
   ]
  },
  {
   "cell_type": "code",
   "execution_count": null,
   "metadata": {
    "id": "RJrgKRdvNnzJ",
    "outputId": "2850beee-a7b4-4492-e16a-fad452a97543"
   },
   "outputs": [],
   "source": [
    "normalizado.head()"
   ]
  },
  {
   "cell_type": "code",
   "execution_count": null,
   "metadata": {
    "id": "jYlYH8X_NnzJ",
    "outputId": "cf5307a3-757c-4f73-f395-e34d93a93a3d"
   },
   "outputs": [],
   "source": [
    "normalizado.plot(figsize = (8,8))\n",
    "plt.title('Ativos normalizados a 1', fontsize = 15)\n",
    "plt.xlabel('Data')\n",
    "plt.ylabel('Preço')\n",
    "plt.show()"
   ]
  },
  {
   "cell_type": "markdown",
   "metadata": {
    "id": "0I_15MszNnzJ"
   },
   "source": [
    "## 5.1. Plot de cotação com volume"
   ]
  },
  {
   "cell_type": "markdown",
   "metadata": {
    "id": "9gmx_Vs2NnzK"
   },
   "source": [
    "Vamos extrair dados para um ativo só"
   ]
  },
  {
   "cell_type": "code",
   "execution_count": null,
   "metadata": {
    "id": "DETrKYewNnzK",
    "outputId": "f61fa162-f435-4cc6-a104-8fed39a456b2"
   },
   "outputs": [],
   "source": [
    "lren = yf.download('LREN3.SA', start = '2017-01-01', end = '2022-05-15')"
   ]
  },
  {
   "cell_type": "code",
   "execution_count": null,
   "metadata": {
    "id": "20-E92HoNnzK",
    "outputId": "27782fbd-5ddf-4d07-fcf5-c628135e22bd"
   },
   "outputs": [],
   "source": [
    "lren.head()"
   ]
  },
  {
   "cell_type": "code",
   "execution_count": null,
   "metadata": {
    "id": "rgMZwdr8NnzK",
    "outputId": "c1241fc3-d30f-4f03-8920-6325ac2133fe"
   },
   "outputs": [],
   "source": [
    "lren.Close.plot()"
   ]
  },
  {
   "cell_type": "code",
   "execution_count": null,
   "metadata": {
    "id": "moBFB_87NnzK",
    "outputId": "c31e2d6d-a96f-41b9-b108-2fa6dee2eed0"
   },
   "outputs": [],
   "source": [
    "fig = plt.figure(figsize = (15,8))\n",
    "gs = fig.add_gridspec(nrows = 6, ncols =1)\n",
    "ax1 = fig.add_subplot(gs[0:5, 0])\n",
    "ax2 = fig.add_subplot(gs[5, 0])\n",
    "\n",
    "ax1.plot(lren.Close)\n",
    "ax2.bar(lren.index, lren.Volume)\n",
    "ax1.set_title('Fechamento | Volume | Cotação de LREN3')"
   ]
  },
  {
   "cell_type": "markdown",
   "metadata": {
    "id": "ZfB821GTNnzK"
   },
   "source": [
    "**Exercício**\n",
    "\n",
    "Crie uma função que recebe um papel determinado pelo usuário (sem .SA) e cria um plot de cotação e volume, com dimensões e datas (início e fim) também especificadas pelo usuário."
   ]
  },
  {
   "cell_type": "code",
   "execution_count": null,
   "metadata": {
    "id": "qASoIhCqNnzL"
   },
   "outputs": [],
   "source": [
    "papel = 'PETR4'"
   ]
  },
  {
   "cell_type": "code",
   "execution_count": null,
   "metadata": {
    "id": "8EIqHAOONnzL",
    "outputId": "b2231e8e-90b7-4004-8132-8b36652c2450"
   },
   "outputs": [],
   "source": [
    "f'{papel}'"
   ]
  },
  {
   "cell_type": "code",
   "execution_count": null,
   "metadata": {
    "id": "YMwZluYcNnzL"
   },
   "outputs": [],
   "source": [
    "tamanho = (15,8)"
   ]
  },
  {
   "cell_type": "code",
   "execution_count": null,
   "metadata": {
    "id": "yL9_MlWlNnzL"
   },
   "outputs": [],
   "source": [
    "def plota_cotacao_volume(papel, tamanho, inicio, fim):\n",
    "    dados = yf.download(papel + '.SA', start = inicio, end = fim)\n",
    "    fig = plt.figure(figsize = tamanho)\n",
    "    gs = fig.add_gridspec(nrows = 6, ncols =1)\n",
    "    ax1 = fig.add_subplot(gs[0:5, 0])\n",
    "    ax2 = fig.add_subplot(gs[5, 0])\n",
    "\n",
    "    ax1.plot(dados.Close)\n",
    "    ax2.bar(dados.index, dados.Volume)\n",
    "    # O título do gráfico precisa ser adaptável ao papel determinado pelos usuários\n",
    "    ax1.set_title(f'Fechamento | Volume | Cotação de {papel}')"
   ]
  },
  {
   "cell_type": "code",
   "execution_count": null,
   "metadata": {
    "id": "Fg3irW2wNnzL",
    "outputId": "6606640a-1080-4990-b512-cd84959b1361"
   },
   "outputs": [],
   "source": [
    "plota_cotacao_volume('GOAU4', tamanho, '2020-01-01', '2022-05-15')"
   ]
  },
  {
   "cell_type": "markdown",
   "metadata": {
    "id": "dPi6Yb3WNnzM"
   },
   "source": [
    "# 6. Estudo de caso: matriz de correlação"
   ]
  },
  {
   "cell_type": "markdown",
   "metadata": {
    "id": "chAo7z7CNnzM"
   },
   "source": [
    "## 6.1. Importando dados de FIIs, ETFs e BDRs"
   ]
  },
  {
   "cell_type": "code",
   "execution_count": null,
   "metadata": {
    "id": "X-rYeAcjNnzM"
   },
   "outputs": [],
   "source": [
    "ativos = ['KNRI11.SA', 'ONEF11.SA', 'HCTR11.SA', 'HGLG11.SA', \n",
    "          'HGBS11.SA', 'SMAL11.SA', 'IVVB11.SA', 'AAPL34.SA']"
   ]
  },
  {
   "cell_type": "code",
   "execution_count": null,
   "metadata": {
    "id": "MV0ZOpAKNnzM"
   },
   "outputs": [],
   "source": [
    "inicio = '2017-01-01'"
   ]
  },
  {
   "cell_type": "code",
   "execution_count": null,
   "metadata": {
    "id": "5bJ19j4NNnzM",
    "outputId": "46e75dae-b0b8-4fbb-aa7f-99cf630c20b5"
   },
   "outputs": [],
   "source": [
    "precos_ativos = pd.DataFrame()\n",
    "\n",
    "for i in ativos:\n",
    "    precos_ativos[i] = yf.download(i, start = inicio)['Adj Close']"
   ]
  },
  {
   "cell_type": "code",
   "execution_count": null,
   "metadata": {
    "id": "zLFiaTDUNnzM",
    "outputId": "9646e667-05bf-4eaf-97ed-3ac1ae9c4630"
   },
   "outputs": [],
   "source": [
    "precos_ativos.head()"
   ]
  },
  {
   "cell_type": "markdown",
   "metadata": {
    "id": "d2TsnxUUNnzM"
   },
   "source": [
    "## 6.2. Importando dados de índices, commodities e criptomoedas"
   ]
  },
  {
   "cell_type": "markdown",
   "metadata": {
    "id": "FjJuJydSNnzN"
   },
   "source": [
    "### 6.2.1. Índices"
   ]
  },
  {
   "cell_type": "code",
   "execution_count": null,
   "metadata": {
    "id": "PGFmOnRtNnzN"
   },
   "outputs": [],
   "source": [
    "import investpy"
   ]
  },
  {
   "cell_type": "code",
   "execution_count": null,
   "metadata": {
    "id": "n35GCRtHNnzN"
   },
   "outputs": [],
   "source": [
    "search_results = investpy.search_quotes(text = 'bvsp', products = ['indices'],\n",
    "                      countries = ['brazil'], n_results = 10)"
   ]
  },
  {
   "cell_type": "code",
   "execution_count": null,
   "metadata": {
    "id": "jamtiuiONnzN",
    "outputId": "cda10b17-73a3-4bd2-b750-321cda399a92"
   },
   "outputs": [],
   "source": [
    "for search_result in search_results[:1]:\n",
    "    print(search_result)"
   ]
  },
  {
   "cell_type": "code",
   "execution_count": null,
   "metadata": {
    "id": "A2KJVB8GNnzN"
   },
   "outputs": [],
   "source": [
    "ibov = search_result.retrieve_historical_data(from_date = '01/01/2017', to_date = '15/05/2022')"
   ]
  },
  {
   "cell_type": "code",
   "execution_count": null,
   "metadata": {
    "id": "BuHHh8SCNnzN",
    "outputId": "87b9ddca-16b4-4e2e-9372-488589fa9150"
   },
   "outputs": [],
   "source": [
    "ibov.head()"
   ]
  },
  {
   "cell_type": "code",
   "execution_count": null,
   "metadata": {
    "id": "umNQ7udKNnzO",
    "outputId": "6c1844c7-2f4b-4934-bcbb-d4fb897311f9"
   },
   "outputs": [],
   "source": [
    "search_results = investpy.search_quotes(text = 'spx', products = ['indices'],\n",
    "                      countries = ['united states'], n_results = 10)\n",
    "\n",
    "for search_result in search_results[:1]:\n",
    "    print(search_result)"
   ]
  },
  {
   "cell_type": "code",
   "execution_count": null,
   "metadata": {
    "id": "VR_CNoj3NnzO"
   },
   "outputs": [],
   "source": [
    "sp500 = search_result.retrieve_historical_data(from_date = '01/01/2017', to_date = '15/05/2022')"
   ]
  },
  {
   "cell_type": "code",
   "execution_count": null,
   "metadata": {
    "id": "4m87hP4GNnzO",
    "outputId": "35a83518-dbc3-4cb6-9c76-d240c99a6cd9"
   },
   "outputs": [],
   "source": [
    "sp500.head()"
   ]
  },
  {
   "cell_type": "code",
   "execution_count": null,
   "metadata": {
    "id": "l6JV3PLJNnzO"
   },
   "outputs": [],
   "source": [
    "ibov.rename(columns = {'Close': 'IBOV'}, inplace = True)"
   ]
  },
  {
   "cell_type": "code",
   "execution_count": null,
   "metadata": {
    "id": "yE_Mr9Z3NnzO",
    "outputId": "a0d953f8-0eac-4b19-bef7-d8f875b9e21c"
   },
   "outputs": [],
   "source": [
    "ibov.head()"
   ]
  },
  {
   "cell_type": "code",
   "execution_count": null,
   "metadata": {
    "id": "tsbOv_2ZNnzO"
   },
   "outputs": [],
   "source": [
    "sp500.rename(columns = {'Close': 'S&P500'}, inplace = True)"
   ]
  },
  {
   "cell_type": "code",
   "execution_count": null,
   "metadata": {
    "id": "aclXGqbcNnzP",
    "outputId": "d224fad2-dc27-4b3c-cb56-f05c6ab864fa"
   },
   "outputs": [],
   "source": [
    "sp500.head()"
   ]
  },
  {
   "cell_type": "code",
   "execution_count": null,
   "metadata": {
    "id": "UULmyElTNnzP"
   },
   "outputs": [],
   "source": [
    "indices = pd.merge(ibov, sp500, how = 'inner', on = 'Date')"
   ]
  },
  {
   "cell_type": "code",
   "execution_count": null,
   "metadata": {
    "id": "D1myE60KNnzP"
   },
   "outputs": [],
   "source": [
    "indices = indices[['IBOV', 'S&P500']]"
   ]
  },
  {
   "cell_type": "code",
   "execution_count": null,
   "metadata": {
    "id": "C2XNEE0RNnzP",
    "outputId": "19173f2a-62cc-4250-b3ef-3e6a6ca7f873"
   },
   "outputs": [],
   "source": [
    "indices"
   ]
  },
  {
   "cell_type": "markdown",
   "metadata": {
    "id": "cYD-KjxyNnzP"
   },
   "source": [
    "### 6.2.2. Commodities"
   ]
  },
  {
   "cell_type": "code",
   "execution_count": null,
   "metadata": {
    "id": "fuaJMC7gNnzP",
    "outputId": "40e4033a-4dd1-4d75-bee5-5d15e00ad456"
   },
   "outputs": [],
   "source": [
    "# Café\n",
    "search_results = investpy.search_quotes(text = 'coffe', products = ['commodities'],\n",
    "                      countries = ['brazil'], n_results = 10)\n",
    "\n",
    "for search_result in search_results[:1]:\n",
    "    print(search_result)"
   ]
  },
  {
   "cell_type": "code",
   "execution_count": null,
   "metadata": {
    "id": "p59RJQ-aNnzQ"
   },
   "outputs": [],
   "source": [
    "cafe = search_result.retrieve_historical_data(from_date = '01/01/2017', to_date = '15/05/2022')"
   ]
  },
  {
   "cell_type": "code",
   "execution_count": null,
   "metadata": {
    "id": "jweZEfRvNnzQ",
    "outputId": "6bfb4a27-acef-43f5-bcbd-e2f84a30b768"
   },
   "outputs": [],
   "source": [
    "cafe.head()"
   ]
  },
  {
   "cell_type": "code",
   "execution_count": null,
   "metadata": {
    "id": "07G63f16NnzQ",
    "outputId": "8a5ee7dd-c501-4eb7-a36c-43c98984c441"
   },
   "outputs": [],
   "source": [
    "cafe.Close.plot()"
   ]
  },
  {
   "cell_type": "code",
   "execution_count": null,
   "metadata": {
    "id": "GZKaCPZANnzQ"
   },
   "outputs": [],
   "source": [
    "cafe.rename(columns = {'Close': 'cafe'}, inplace = True)"
   ]
  },
  {
   "cell_type": "code",
   "execution_count": null,
   "metadata": {
    "id": "KoU3NYSZNnzR",
    "outputId": "8e4ccc8c-0204-4eee-9307-1657e41e4c67"
   },
   "outputs": [],
   "source": [
    "cafe.head()"
   ]
  },
  {
   "cell_type": "code",
   "execution_count": null,
   "metadata": {
    "id": "-bCX6SGnNnzR",
    "outputId": "bd159783-ef18-4738-9b4d-3746d4a0bd23"
   },
   "outputs": [],
   "source": [
    "# Soja\n",
    "search_results = investpy.search_quotes(text = 'soy', products = ['commodities'],\n",
    "                      countries = ['brazil'], n_results = 10)\n",
    "\n",
    "for search_result in search_results[:1]:\n",
    "    print(search_result)"
   ]
  },
  {
   "cell_type": "code",
   "execution_count": null,
   "metadata": {
    "id": "RLUhsAsdNnzR"
   },
   "outputs": [],
   "source": [
    "soja = search_result.retrieve_historical_data(from_date = '01/01/2017', to_date = '15/05/2022')"
   ]
  },
  {
   "cell_type": "code",
   "execution_count": null,
   "metadata": {
    "id": "pBPAFkCqNnzR",
    "outputId": "be22913b-ecd2-4f81-c8f1-23e6c399e722"
   },
   "outputs": [],
   "source": [
    "soja.Close.plot()"
   ]
  },
  {
   "cell_type": "code",
   "execution_count": null,
   "metadata": {
    "id": "XbVDVvybNnzR"
   },
   "outputs": [],
   "source": [
    "soja.rename(columns = {'Close': 'soja'}, inplace = True)"
   ]
  },
  {
   "cell_type": "code",
   "execution_count": null,
   "metadata": {
    "id": "oz9ikDaANnzR",
    "outputId": "83677204-78c9-4136-a563-d05738e53c8d"
   },
   "outputs": [],
   "source": [
    "# Etanol\n",
    "search_results = investpy.search_quotes(text = 'ethanol', products = ['commodities'],\n",
    "                      countries = ['brazil'], n_results = 10)\n",
    "\n",
    "for search_result in search_results[:1]:\n",
    "    print(search_result)"
   ]
  },
  {
   "cell_type": "code",
   "execution_count": null,
   "metadata": {
    "id": "xHkxLlD4NnzS"
   },
   "outputs": [],
   "source": [
    "etanol = search_result.retrieve_historical_data(from_date = '01/01/2017', to_date = '15/05/2022')"
   ]
  },
  {
   "cell_type": "code",
   "execution_count": null,
   "metadata": {
    "id": "rytCqAJsNnzS",
    "outputId": "f43c2382-e532-4feb-b46f-8c8c2ca1a46b"
   },
   "outputs": [],
   "source": [
    "etanol.Close.plot()"
   ]
  },
  {
   "cell_type": "code",
   "execution_count": null,
   "metadata": {
    "id": "SCuodZqZNnzS"
   },
   "outputs": [],
   "source": [
    "etanol.rename(columns = {'Close': 'etanol'}, inplace = True)"
   ]
  },
  {
   "cell_type": "code",
   "execution_count": null,
   "metadata": {
    "id": "btbPwl3QNnzS"
   },
   "outputs": [],
   "source": [
    "interm = pd.merge(cafe, soja, how = 'inner', on = 'Date')\n",
    "commodities = pd.merge(interm, etanol, how = 'inner', on = 'Date')"
   ]
  },
  {
   "cell_type": "code",
   "execution_count": null,
   "metadata": {
    "id": "a8wEQg0hNnzS",
    "outputId": "1ef94140-3b12-4c7d-e53a-e4f0abd6aa93"
   },
   "outputs": [],
   "source": [
    "commodities.head()"
   ]
  },
  {
   "cell_type": "code",
   "execution_count": null,
   "metadata": {
    "id": "GZhXXrjtNnzT"
   },
   "outputs": [],
   "source": [
    "from functools import reduce"
   ]
  },
  {
   "cell_type": "code",
   "execution_count": null,
   "metadata": {
    "id": "lZ5OVkpjNnzT"
   },
   "outputs": [],
   "source": [
    "lista_dfs = [cafe, soja, etanol]"
   ]
  },
  {
   "cell_type": "code",
   "execution_count": null,
   "metadata": {
    "id": "qHAqTCgkNnzT"
   },
   "outputs": [],
   "source": [
    "commodities = reduce(lambda left, right: pd.merge(left, right, how = 'inner', on = 'Date'), lista_dfs)"
   ]
  },
  {
   "cell_type": "code",
   "execution_count": null,
   "metadata": {
    "id": "vZX2zuKwNnzT",
    "outputId": "306fe033-f81b-4ef3-8cee-40f07f6b4673"
   },
   "outputs": [],
   "source": [
    "commodities.head()"
   ]
  },
  {
   "cell_type": "code",
   "execution_count": null,
   "metadata": {
    "id": "xlzmBkoVNnzT"
   },
   "outputs": [],
   "source": [
    "commodities = commodities[['cafe','soja','etanol']]"
   ]
  },
  {
   "cell_type": "code",
   "execution_count": null,
   "metadata": {
    "id": "X4mT2RGoNnzT",
    "outputId": "d0f4b838-1672-4f1e-d512-fc1498e636f5"
   },
   "outputs": [],
   "source": [
    "commodities.head()"
   ]
  },
  {
   "cell_type": "markdown",
   "metadata": {
    "id": "c-bBzsZQNnzU"
   },
   "source": [
    "### Criptomoedas"
   ]
  },
  {
   "cell_type": "code",
   "execution_count": null,
   "metadata": {
    "id": "1CfkfVEbNnzU"
   },
   "outputs": [],
   "source": [
    "bitcoin = investpy.get_crypto_historical_data(crypto = 'bitcoin', \n",
    "                                              from_date = '01/01/2017', to_date = '15/05/2022')"
   ]
  },
  {
   "cell_type": "code",
   "execution_count": null,
   "metadata": {
    "id": "Kjl0QZJFNnzU"
   },
   "outputs": [],
   "source": [
    "bitcoin.rename(columns = {'Close': 'bitcoin'}, inplace = True)"
   ]
  },
  {
   "cell_type": "code",
   "execution_count": null,
   "metadata": {
    "id": "PghWWyGENnzU"
   },
   "outputs": [],
   "source": [
    "ethereum = investpy.get_crypto_historical_data(crypto = 'ethereum', \n",
    "                                              from_date = '01/01/2017', to_date = '15/05/2022')\n",
    "\n",
    "ethereum.rename(columns = {'Close': 'ethereum'}, inplace = True)"
   ]
  },
  {
   "cell_type": "code",
   "execution_count": null,
   "metadata": {
    "id": "o8GstwK-NnzV"
   },
   "outputs": [],
   "source": [
    "cripto = pd.merge(bitcoin, ethereum, how = 'inner', on = 'Date')"
   ]
  },
  {
   "cell_type": "code",
   "execution_count": null,
   "metadata": {
    "id": "ZdVL6yFiNnzV"
   },
   "outputs": [],
   "source": [
    "cripto = cripto[['bitcoin', 'ethereum']]"
   ]
  },
  {
   "cell_type": "code",
   "execution_count": null,
   "metadata": {
    "id": "XJjPuCHWNnzV",
    "outputId": "c6fc49bb-ff41-4c9d-e2b9-03a66b68eb71"
   },
   "outputs": [],
   "source": [
    "cripto.head()"
   ]
  },
  {
   "cell_type": "markdown",
   "metadata": {
    "id": "QjZR95AJNnzV"
   },
   "source": [
    "## 6.3. Dados do dólar"
   ]
  },
  {
   "cell_type": "code",
   "execution_count": null,
   "metadata": {
    "id": "z1u5s5YDNnzW",
    "outputId": "a6c271c6-2856-44c0-90ce-8cb0cc8ec542"
   },
   "outputs": [],
   "source": [
    "dolar = yf.download('USDBRL=X', start = inicio)"
   ]
  },
  {
   "cell_type": "code",
   "execution_count": null,
   "metadata": {
    "id": "m7cCyMtwNnzW",
    "outputId": "e93d2b76-9446-4082-d79c-5906e7bb93da"
   },
   "outputs": [],
   "source": [
    "dolar.head()"
   ]
  },
  {
   "cell_type": "code",
   "execution_count": null,
   "metadata": {
    "id": "zHfMWFqyNnzW",
    "outputId": "4429aa07-3960-4e29-9ba9-9938bfa30228"
   },
   "outputs": [],
   "source": [
    "dolar.Close.plot()"
   ]
  },
  {
   "cell_type": "code",
   "execution_count": null,
   "metadata": {
    "id": "rNX-5RAdNnzW"
   },
   "outputs": [],
   "source": [
    "dolar = pd.DataFrame(dolar.Close).rename(columns = {'Close': 'Dolar'})"
   ]
  },
  {
   "cell_type": "code",
   "execution_count": null,
   "metadata": {
    "id": "_z3G34abNnzW",
    "outputId": "4489f0c5-16b2-449d-f697-3504dd31cca3"
   },
   "outputs": [],
   "source": [
    "dolar.head()"
   ]
  },
  {
   "cell_type": "markdown",
   "metadata": {
    "id": "M68lp4jiNnzW"
   },
   "source": [
    "## 6.4. Dados de ações"
   ]
  },
  {
   "cell_type": "code",
   "execution_count": null,
   "metadata": {
    "id": "KYoVqm0vNnzX",
    "outputId": "5d8a1230-0a99-4a70-cf9a-6425db4adaa6"
   },
   "outputs": [],
   "source": [
    "data.head()"
   ]
  },
  {
   "cell_type": "markdown",
   "metadata": {
    "id": "cdfb44bUNnzX"
   },
   "source": [
    "## 6.5. Juntando tudo num dataframe só"
   ]
  },
  {
   "cell_type": "code",
   "execution_count": null,
   "metadata": {
    "id": "Ys2YdgoyNnzX"
   },
   "outputs": [],
   "source": [
    "# Dados de ações\n",
    "data.index = pd.to_datetime(data.index)\n",
    "# Dados de FIIs, ETFs e BDRs\n",
    "precos_ativos.index = pd.to_datetime(precos_ativos.index)\n",
    "# Dados de índices\n",
    "indices.index = pd.to_datetime(indices.index)\n",
    "# Dados de commodities\n",
    "commodities.index = pd.to_datetime(commodities.index)\n",
    "# Dados de criptomoedas\n",
    "cripto.index = pd.to_datetime(cripto.index)\n",
    "# Cotação do dólar\n",
    "dolar.index = pd.to_datetime(dolar.index)"
   ]
  },
  {
   "cell_type": "code",
   "execution_count": null,
   "metadata": {
    "id": "nBKiAEzPNnzY"
   },
   "outputs": [],
   "source": [
    "dfs = [data, precos_ativos, indices, commodities, cripto, dolar]"
   ]
  },
  {
   "cell_type": "code",
   "execution_count": null,
   "metadata": {
    "id": "98bkw4QKNnzY"
   },
   "outputs": [],
   "source": [
    "df_final = reduce(lambda left, right: pd.merge(left, right, how = 'inner', on = 'Date'), dfs)"
   ]
  },
  {
   "cell_type": "code",
   "execution_count": null,
   "metadata": {
    "id": "GJ3q-nDENnzY",
    "outputId": "0bc45fb4-104c-4047-aa5e-824d58bb7247"
   },
   "outputs": [],
   "source": [
    "df_final.head()"
   ]
  },
  {
   "cell_type": "code",
   "execution_count": null,
   "metadata": {
    "id": "6E_IJ0WeNnzY"
   },
   "outputs": [],
   "source": [
    "retornos = df_final.pct_change()"
   ]
  },
  {
   "cell_type": "code",
   "execution_count": null,
   "metadata": {
    "id": "pKds6ISXNnzY",
    "outputId": "e3e38082-17df-4a81-f3f3-2e1b581b57c4"
   },
   "outputs": [],
   "source": [
    "retornos.head()"
   ]
  },
  {
   "cell_type": "code",
   "execution_count": null,
   "metadata": {
    "id": "9XjdnBIYNnzZ"
   },
   "outputs": [],
   "source": [
    "retornos = retornos.dropna()"
   ]
  },
  {
   "cell_type": "code",
   "execution_count": null,
   "metadata": {
    "id": "kW1JEOyhNnzZ",
    "outputId": "9f270113-1649-4849-a96a-43edccdc196e"
   },
   "outputs": [],
   "source": [
    "retornos.head()"
   ]
  },
  {
   "cell_type": "markdown",
   "metadata": {
    "id": "GZW5F9vzNnzZ"
   },
   "source": [
    "## 6.6. Matriz de Correlação"
   ]
  },
  {
   "cell_type": "code",
   "execution_count": null,
   "metadata": {
    "id": "0TT5Q4eRNnzZ"
   },
   "outputs": [],
   "source": [
    "import seaborn as sns"
   ]
  },
  {
   "cell_type": "code",
   "execution_count": null,
   "metadata": {
    "id": "Gvy5JjXANnzZ"
   },
   "outputs": [],
   "source": [
    "import matplotlib.pyplot as plt"
   ]
  },
  {
   "cell_type": "code",
   "execution_count": null,
   "metadata": {
    "id": "F6ucwVT8NnzZ",
    "outputId": "59a004c2-fc72-4cfa-925d-036e9079009d"
   },
   "outputs": [],
   "source": [
    "df_final.corr()"
   ]
  },
  {
   "cell_type": "code",
   "execution_count": null,
   "metadata": {
    "id": "n1UDyKdJNnza",
    "outputId": "49af9f29-051e-4121-8be4-5c5ff9af26a2"
   },
   "outputs": [],
   "source": [
    "sns.heatmap(df_final.corr())"
   ]
  },
  {
   "cell_type": "code",
   "execution_count": null,
   "metadata": {
    "id": "yVOSHXM2Nnza",
    "outputId": "2204224e-020d-48a2-f14e-a0cd2f160c09"
   },
   "outputs": [],
   "source": [
    "plt.figure(figsize = (16,8))\n",
    "\n",
    "sns.heatmap(df_final.corr(),\n",
    "           vmin = -1, vmax = 1, annot = True, cmap = 'BrBG')"
   ]
  },
  {
   "cell_type": "markdown",
   "metadata": {
    "id": "wV4bXRc7Nnza"
   },
   "source": [
    "# 7. Estudo de caso: comparação de carteira com o IBOV"
   ]
  },
  {
   "cell_type": "markdown",
   "metadata": {
    "id": "CFVzBPyNNnza"
   },
   "source": [
    "Simplificação: vamos simular um único aporte feito no primeiro dia"
   ]
  },
  {
   "cell_type": "markdown",
   "metadata": {
    "id": "7NE74uZrNnza"
   },
   "source": [
    "## 7.1. Importando dados"
   ]
  },
  {
   "cell_type": "code",
   "execution_count": null,
   "metadata": {
    "id": "8FuV0tDHNnzb"
   },
   "outputs": [],
   "source": [
    "ativos = ['PETR4','VALE3', 'ABEV3', 'WEGE3', 'EMBR3', 'RADL3', 'CVCB3', 'CIEL3', 'OIBR3', 'KNRI11']"
   ]
  },
  {
   "cell_type": "code",
   "execution_count": null,
   "metadata": {
    "id": "p2iOeBg9Nnzb"
   },
   "outputs": [],
   "source": [
    "ativos = [i + '.SA' for i in ativos]"
   ]
  },
  {
   "cell_type": "code",
   "execution_count": null,
   "metadata": {
    "id": "MqRTIhZ_Nnzb"
   },
   "outputs": [],
   "source": [
    "inicio = '2020-01-01'\n",
    "fim = '2022-05-15'"
   ]
  },
  {
   "cell_type": "code",
   "execution_count": null,
   "metadata": {
    "id": "S8LZW6EBNnzb",
    "outputId": "6177cc7d-95de-4b9c-82b0-3f9739d5d463"
   },
   "outputs": [],
   "source": [
    "df = yf.download(ativos, start = inicio, end = fim)['Adj Close']"
   ]
  },
  {
   "cell_type": "code",
   "execution_count": null,
   "metadata": {
    "id": "iT-rAJTQNnzb",
    "outputId": "16f7fa53-9a64-498e-9bda-70b84b6fcc40"
   },
   "outputs": [],
   "source": [
    "df.head()"
   ]
  },
  {
   "cell_type": "markdown",
   "metadata": {
    "id": "fX2qfn-XNnzc"
   },
   "source": [
    "## 7.2. Normalização dos ativos"
   ]
  },
  {
   "cell_type": "code",
   "execution_count": null,
   "metadata": {
    "id": "rFAQ8UBONnzc"
   },
   "outputs": [],
   "source": [
    "normalizado = df/df.iloc[0]"
   ]
  },
  {
   "cell_type": "code",
   "execution_count": null,
   "metadata": {
    "id": "i70SW81ONnzc",
    "outputId": "edda5cdf-7ba1-4b3a-f331-ee9c4b0167a2"
   },
   "outputs": [],
   "source": [
    "normalizado.plot(figsize = (8,7))"
   ]
  },
  {
   "cell_type": "markdown",
   "metadata": {
    "id": "fx7dMCsINnzc"
   },
   "source": [
    "## 7.3. Métricas básicas de carteira"
   ]
  },
  {
   "cell_type": "markdown",
   "metadata": {
    "id": "UIPyCB4UNnzc"
   },
   "source": [
    "Preços no dia do aporte"
   ]
  },
  {
   "cell_type": "code",
   "execution_count": null,
   "metadata": {
    "id": "-UT3ZzYQNnzc"
   },
   "outputs": [],
   "source": [
    "primeiro = df.iloc[0]"
   ]
  },
  {
   "cell_type": "code",
   "execution_count": null,
   "metadata": {
    "id": "UVqmrnvfNnzc",
    "outputId": "c3abc620-decc-4659-fb01-2198667d2e5e"
   },
   "outputs": [],
   "source": [
    "primeiro"
   ]
  },
  {
   "cell_type": "markdown",
   "metadata": {
    "id": "WT3GASvUNnzd"
   },
   "source": [
    "Se investimos R$ 1000 em cada papel, quantos papéis precisamos comprar de cada?"
   ]
  },
  {
   "cell_type": "code",
   "execution_count": null,
   "metadata": {
    "id": "jpRCbQUONnzd"
   },
   "outputs": [],
   "source": [
    "comprados = 1000/primeiro"
   ]
  },
  {
   "cell_type": "code",
   "execution_count": null,
   "metadata": {
    "id": "ynFzei9DNnzd",
    "outputId": "0b96d83e-23ee-4146-820d-c4a5c0ce4020"
   },
   "outputs": [],
   "source": [
    "comprados"
   ]
  },
  {
   "cell_type": "code",
   "execution_count": null,
   "metadata": {
    "id": "f6mRl-qzNnzd",
    "outputId": "3a88cbab-ff91-4461-894b-41e2da6fad23"
   },
   "outputs": [],
   "source": [
    "# Número de papéis arredondados\n",
    "round(comprados, 0)"
   ]
  },
  {
   "cell_type": "code",
   "execution_count": null,
   "metadata": {
    "id": "eSKejo8JNnzd"
   },
   "outputs": [],
   "source": [
    "comprados = round(comprados, 0)"
   ]
  },
  {
   "cell_type": "code",
   "execution_count": null,
   "metadata": {
    "id": "cQXKA6rLNnzd",
    "outputId": "880440c8-3442-4709-9f46-0272db198bf7"
   },
   "outputs": [],
   "source": [
    "comprados"
   ]
  },
  {
   "cell_type": "markdown",
   "metadata": {
    "id": "XgI9_PgHNnze"
   },
   "source": [
    "## 7.4. Construção da carteira e da comparação com o IBOV"
   ]
  },
  {
   "cell_type": "markdown",
   "metadata": {
    "id": "giTazm3TNnze"
   },
   "source": [
    "Como saber qual era o valor que tínhamos em cada papel, por dia? Basta multiplicar o número de papéis que compramos com os preços diários"
   ]
  },
  {
   "cell_type": "code",
   "execution_count": null,
   "metadata": {
    "id": "vcarhC7GNnze"
   },
   "outputs": [],
   "source": [
    "PL = df*comprados"
   ]
  },
  {
   "cell_type": "code",
   "execution_count": null,
   "metadata": {
    "id": "_BmOrLESNnze",
    "outputId": "76007e40-4916-460d-841c-6c807bdf25e6"
   },
   "outputs": [],
   "source": [
    "PL.head()"
   ]
  },
  {
   "cell_type": "code",
   "execution_count": null,
   "metadata": {
    "id": "lGpMxtLxNnze",
    "outputId": "0be8cdcc-90ef-43de-dc30-9d949bda1ad1"
   },
   "outputs": [],
   "source": [
    "PL.tail()"
   ]
  },
  {
   "cell_type": "code",
   "execution_count": null,
   "metadata": {
    "id": "M-G-73f_Nnze"
   },
   "outputs": [],
   "source": [
    "# Criando uma nova coluna que vai demonstrar o valor total da nossa carteira, por dia\n",
    "PL['PL Total'] = PL.sum(axis = 1)"
   ]
  },
  {
   "cell_type": "code",
   "execution_count": null,
   "metadata": {
    "id": "hGkHylCONnze",
    "outputId": "9a632db4-d9e6-48d7-8f39-51cad896d4ff"
   },
   "outputs": [],
   "source": [
    "PL.head()"
   ]
  },
  {
   "cell_type": "code",
   "execution_count": null,
   "metadata": {
    "id": "Ip3V4TdaNnzf",
    "outputId": "5c438104-796b-4083-f6fa-ab6ab6f1df17"
   },
   "outputs": [],
   "source": [
    "PL.tail()"
   ]
  },
  {
   "cell_type": "markdown",
   "metadata": {
    "id": "6PkG2975Nnzf"
   },
   "source": [
    "Vamos obter agora os dados do IBOV para compará-lo com nossa carteira"
   ]
  },
  {
   "cell_type": "code",
   "execution_count": null,
   "metadata": {
    "id": "lCXw2YjtNnzf",
    "outputId": "5a1c3b3e-3a5f-46de-9687-22cedad72c27"
   },
   "outputs": [],
   "source": [
    "ibov = yf.download('^BVSP', start = inicio, end = fim)"
   ]
  },
  {
   "cell_type": "code",
   "execution_count": null,
   "metadata": {
    "id": "7MuT8aPtNnzf",
    "outputId": "3bd9f5dc-76a8-463d-aafa-695b4638aa8e"
   },
   "outputs": [],
   "source": [
    "ibov.head()"
   ]
  },
  {
   "cell_type": "code",
   "execution_count": null,
   "metadata": {
    "id": "H92tAQL3Nnzf"
   },
   "outputs": [],
   "source": [
    "ibov.rename(columns = {'Close':'Ibov'}, inplace = True)"
   ]
  },
  {
   "cell_type": "code",
   "execution_count": null,
   "metadata": {
    "id": "IoZ6Z2PnNnzf"
   },
   "outputs": [],
   "source": [
    "ibov = ibov[['Ibov']]"
   ]
  },
  {
   "cell_type": "code",
   "execution_count": null,
   "metadata": {
    "id": "VhsSVfGJNnzg",
    "outputId": "e7fb0376-1427-483e-d494-cdfb2dd3d8f8"
   },
   "outputs": [],
   "source": [
    "ibov"
   ]
  },
  {
   "cell_type": "markdown",
   "metadata": {
    "id": "gVzl2poTNnzg"
   },
   "source": [
    "Agora vamos juntar os dados das tabelas do IBOV e da nossa carteira"
   ]
  },
  {
   "cell_type": "code",
   "execution_count": null,
   "metadata": {
    "id": "8AoaPJRgNnzg"
   },
   "outputs": [],
   "source": [
    "novo_df = pd.merge(ibov, PL, how = 'inner', on = 'Date')"
   ]
  },
  {
   "cell_type": "code",
   "execution_count": null,
   "metadata": {
    "id": "vERUnMElNnzg",
    "outputId": "0c876290-2987-4095-f259-9b5666b7ef9a"
   },
   "outputs": [],
   "source": [
    "novo_df.head()"
   ]
  },
  {
   "cell_type": "code",
   "execution_count": null,
   "metadata": {
    "id": "bRWkZAuZNnzg",
    "outputId": "fc1c108f-33a0-4148-d113-1ece1677ff43"
   },
   "outputs": [],
   "source": [
    "novo_df.plot()"
   ]
  },
  {
   "cell_type": "markdown",
   "metadata": {
    "id": "2hCa732KNnzg"
   },
   "source": [
    "Vamos normalizar tudo para colocá-los na mesma base, ou seja, todos começam com 100"
   ]
  },
  {
   "cell_type": "code",
   "execution_count": null,
   "metadata": {
    "id": "DgqsOYf9Nnzh"
   },
   "outputs": [],
   "source": [
    "novo_normalizado = (novo_df/novo_df.iloc[0])*100"
   ]
  },
  {
   "cell_type": "code",
   "execution_count": null,
   "metadata": {
    "id": "YDGupWFzNnzh",
    "outputId": "f77b57f3-ea3c-45b8-a52c-528381262cf1"
   },
   "outputs": [],
   "source": [
    "novo_normalizado"
   ]
  },
  {
   "cell_type": "code",
   "execution_count": null,
   "metadata": {
    "id": "Imlfd7TjNnzh",
    "outputId": "97544d96-33ba-46c2-fc02-2f063438cef4"
   },
   "outputs": [],
   "source": [
    "novo_normalizado.plot()"
   ]
  },
  {
   "cell_type": "code",
   "execution_count": null,
   "metadata": {
    "id": "rb5Bcc1BNnzh",
    "outputId": "38db0d17-9f89-44ec-f450-408d91f25718"
   },
   "outputs": [],
   "source": [
    "novo_normalizado.tail()"
   ]
  },
  {
   "cell_type": "code",
   "execution_count": null,
   "metadata": {
    "id": "iW0f_ha9Nnzh",
    "outputId": "d6e73cb4-db5d-4271-d0c4-d1f6cb166ebd"
   },
   "outputs": [],
   "source": [
    "novo_normalizado[['Ibov','PL Total']].plot(figsize = (8,6))"
   ]
  },
  {
   "cell_type": "markdown",
   "metadata": {
    "id": "SShHfBTXNnzh"
   },
   "source": [
    "E se o usuário conseguisse determinar quanto ele investiria em cada ativo?"
   ]
  },
  {
   "cell_type": "code",
   "execution_count": null,
   "metadata": {
    "id": "sDBYwKiPNnzi",
    "outputId": "4ad4e770-1167-4c76-a57f-e74190c2a23d"
   },
   "outputs": [],
   "source": [
    "ativos"
   ]
  },
  {
   "cell_type": "code",
   "execution_count": null,
   "metadata": {
    "id": "ZApBVXE_Nnzi"
   },
   "outputs": [],
   "source": [
    "alocacoes = {'PETR4.SA':2000,\n",
    " 'VALE3.SA':2000,\n",
    " 'ABEV3.SA':1000,\n",
    " 'WEGE3.SA':1000,\n",
    " 'EMBR3.SA':500,\n",
    " 'RADL3.SA':500,\n",
    " 'CVCB3.SA':500,\n",
    " 'CIEL3.SA':500,\n",
    " 'OIBR3.SA':500,\n",
    " 'KNRI11.SA':1500}"
   ]
  },
  {
   "cell_type": "code",
   "execution_count": null,
   "metadata": {
    "id": "NyudpHkZNnzi",
    "outputId": "0932f2e6-ad46-4391-e713-1224826e21bc"
   },
   "outputs": [],
   "source": [
    "alocacoes"
   ]
  },
  {
   "cell_type": "code",
   "execution_count": null,
   "metadata": {
    "id": "4Iq-0NMfNnzi",
    "outputId": "32107248-a162-4b5f-fe7d-c3c0373ed07d"
   },
   "outputs": [],
   "source": [
    "alocacoes.keys()"
   ]
  },
  {
   "cell_type": "code",
   "execution_count": null,
   "metadata": {
    "id": "CYLwnNYVNnzi"
   },
   "outputs": [],
   "source": [
    "alocacoes_df = pd.Series(data = alocacoes, index = list(alocacoes.keys()))"
   ]
  },
  {
   "cell_type": "code",
   "execution_count": null,
   "metadata": {
    "id": "kzczV5cKNnzi",
    "outputId": "af360b3d-9081-4b18-8e62-cfca6148d0c7"
   },
   "outputs": [],
   "source": [
    "alocacoes.values()"
   ]
  },
  {
   "cell_type": "code",
   "execution_count": null,
   "metadata": {
    "id": "q0ysDOQFNnzj",
    "outputId": "d745ea58-dbf8-4c04-9fba-e0e70580ffd2"
   },
   "outputs": [],
   "source": [
    "sum(alocacoes.values())"
   ]
  },
  {
   "cell_type": "markdown",
   "metadata": {
    "id": "2K4JTPqoNnzj"
   },
   "source": [
    "Obtendo preços dos ativos no primeiro dia do investimento"
   ]
  },
  {
   "cell_type": "code",
   "execution_count": null,
   "metadata": {
    "id": "zL1L4xF2Nnzj"
   },
   "outputs": [],
   "source": [
    "primeiro = df.iloc[0]"
   ]
  },
  {
   "cell_type": "code",
   "execution_count": null,
   "metadata": {
    "id": "RkIkGQ-lNnzj",
    "outputId": "b88c52d7-c18c-4524-8ffb-63aeaa4813be"
   },
   "outputs": [],
   "source": [
    "primeiro"
   ]
  },
  {
   "cell_type": "markdown",
   "metadata": {
    "id": "Zp1ADzQwNnzj"
   },
   "source": [
    "Quantidade de papéis comprados de cada ativo (determinados no primeiro dia)"
   ]
  },
  {
   "cell_type": "code",
   "execution_count": null,
   "metadata": {
    "id": "9rJB7vy7Nnzj"
   },
   "outputs": [],
   "source": [
    "compras = alocacoes_df/primeiro"
   ]
  },
  {
   "cell_type": "code",
   "execution_count": null,
   "metadata": {
    "id": "5pAsIYB4Nnzk"
   },
   "outputs": [],
   "source": [
    "compras = round(compras, 0)"
   ]
  },
  {
   "cell_type": "code",
   "execution_count": null,
   "metadata": {
    "id": "Ia1iLFBeNnzk",
    "outputId": "0314eac5-0a99-47d2-cd1a-29bf69286f9d"
   },
   "outputs": [],
   "source": [
    "compras"
   ]
  },
  {
   "cell_type": "markdown",
   "metadata": {
    "id": "Bl-ru6TxNnzk"
   },
   "source": [
    "Criando um dataframe que contém a posição diária de cada ativo"
   ]
  },
  {
   "cell_type": "code",
   "execution_count": null,
   "metadata": {
    "id": "NCBloCEoNnzk"
   },
   "outputs": [],
   "source": [
    "PL02 = df*compras"
   ]
  },
  {
   "cell_type": "code",
   "execution_count": null,
   "metadata": {
    "id": "LYiHn7AMNnzk",
    "outputId": "a8e0aa3a-f266-4414-c5d0-2ae8d6986192"
   },
   "outputs": [],
   "source": [
    "PL02.head()"
   ]
  },
  {
   "cell_type": "code",
   "execution_count": null,
   "metadata": {
    "id": "BeMnDMXxNnzk"
   },
   "outputs": [],
   "source": [
    "PL02['PL Total'] = PL02.sum(axis = 1)"
   ]
  },
  {
   "cell_type": "code",
   "execution_count": null,
   "metadata": {
    "id": "MNo8MLYdNnzk"
   },
   "outputs": [],
   "source": [
    "novo_df02 = pd.merge(ibov, PL02, how = 'inner', on = 'Date')"
   ]
  },
  {
   "cell_type": "code",
   "execution_count": null,
   "metadata": {
    "id": "7BQP-vZ2Nnzl",
    "outputId": "5a80d465-6fdb-4c19-b435-fb275f225255"
   },
   "outputs": [],
   "source": [
    "novo_df02.head()"
   ]
  },
  {
   "cell_type": "code",
   "execution_count": null,
   "metadata": {
    "id": "B5VI7WVdNnzl"
   },
   "outputs": [],
   "source": [
    "novo_normalizado_02 = (novo_df02/novo_df02.iloc[0])*100"
   ]
  },
  {
   "cell_type": "code",
   "execution_count": null,
   "metadata": {
    "id": "IPhBqrT6Nnzl",
    "outputId": "5c6efc5e-3ff1-4500-a4c7-0b7bfbe204c4"
   },
   "outputs": [],
   "source": [
    "novo_normalizado_02.head()"
   ]
  },
  {
   "cell_type": "code",
   "execution_count": null,
   "metadata": {
    "id": "32FkDJTZNnzl",
    "outputId": "1631c7ad-e854-4d47-a994-0e17bdffed04"
   },
   "outputs": [],
   "source": [
    "novo_normalizado_02.tail()"
   ]
  },
  {
   "cell_type": "code",
   "execution_count": null,
   "metadata": {
    "id": "C2SNgS9eNnzl",
    "outputId": "6cbc5223-6ae2-42a5-bf3d-78fcee8a01ee"
   },
   "outputs": [],
   "source": [
    "novo_normalizado_02.plot()"
   ]
  },
  {
   "cell_type": "code",
   "execution_count": null,
   "metadata": {
    "id": "XV0T3tVKNnzl",
    "outputId": "da713a3b-25f7-490e-f371-1fe6c6ebfe2e"
   },
   "outputs": [],
   "source": [
    "novo_normalizado_02[['Ibov','PL Total']].plot(figsize = (8,6))"
   ]
  },
  {
   "cell_type": "markdown",
   "metadata": {
    "id": "rOoxvHnVNnzm"
   },
   "source": [
    "**Exercício**\n",
    "\n",
    "Crie uma função que recebe um dicionário de alocações definido pelo usuário, e compara essa carteira com o Ibov. As datas de início e fim também devem ser definidas pelo usuário."
   ]
  },
  {
   "cell_type": "code",
   "execution_count": null,
   "metadata": {
    "id": "FglgdUvONnzm"
   },
   "outputs": [],
   "source": [
    "alocacoes = {'PETR4.SA':2000,\n",
    " 'VALE3.SA':2000,\n",
    " 'ABEV3.SA':1000}"
   ]
  },
  {
   "cell_type": "code",
   "execution_count": null,
   "metadata": {
    "id": "GujFkqVuNnzm"
   },
   "outputs": [],
   "source": [
    "ativos = ['PETR4.SA', 'VALE3.SA', 'ABEV3.SA']"
   ]
  },
  {
   "cell_type": "code",
   "execution_count": null,
   "metadata": {
    "id": "rFbSJGxQNnzm"
   },
   "outputs": [],
   "source": [
    "def compara_carteiras(ativos, dicionario, inicio, fim):\n",
    "    df = yf.download(ativos, start = inicio, end = fim)['Adj Close']\n",
    "    alocacoes_df = pd.Series(data = dicionario, index = list(dicionario.keys()))\n",
    "    primeiro = df.iloc[0]\n",
    "    compras = alocacoes_df/primeiro\n",
    "    compras = round(compras, 0)\n",
    "    PL00 = df*compras\n",
    "    PL00['PL Total'] = PL00.sum(axis = 1)\n",
    "    ibov = yf.download('^BVSP', start = inicio, end = fim)\n",
    "    ibov.rename(columns = {'Close':'Ibov'}, inplace = True)\n",
    "    novo_df00 = pd.merge(ibov, PL00, how = 'inner', on = 'Date')\n",
    "    novo_normalizado_00 = (novo_df00/novo_df00.iloc[0])*100\n",
    "    novo_normalizado_00[['Ibov','PL Total']].plot(figsize = (8,6))"
   ]
  },
  {
   "cell_type": "code",
   "execution_count": null,
   "metadata": {
    "id": "Oed78kypNnzm",
    "outputId": "49eafd38-27a3-4250-d82d-77306b7509c6"
   },
   "outputs": [],
   "source": [
    "inicio"
   ]
  },
  {
   "cell_type": "code",
   "execution_count": null,
   "metadata": {
    "id": "CalX95AfNnzn",
    "outputId": "d3260ab1-55bd-402d-9333-54f1797c7567"
   },
   "outputs": [],
   "source": [
    "fim"
   ]
  },
  {
   "cell_type": "code",
   "execution_count": null,
   "metadata": {
    "id": "mqvHNmSiNnzn",
    "outputId": "19f24e89-ac26-40fe-a7e0-03a46dbc5eb9"
   },
   "outputs": [],
   "source": [
    "compara_carteiras(ativos, alocacoes, inicio, fim)"
   ]
  },
  {
   "cell_type": "code",
   "execution_count": null,
   "metadata": {
    "id": "ZelyUsYoNnzn"
   },
   "outputs": [],
   "source": [
    "lista_ativos = ['PETR4.SA', 'MGLU3.SA', 'WEGE3.SA']\n",
    "\n",
    "carteira = {'PETR4.SA':2000,\n",
    " 'MGLU3.SA':3000,\n",
    " 'WEGE3.SA':13000}"
   ]
  },
  {
   "cell_type": "code",
   "execution_count": null,
   "metadata": {
    "id": "bDHFAt2TNnzn",
    "outputId": "85765179-91cd-4e75-9b1b-705c673df069"
   },
   "outputs": [],
   "source": [
    "compara_carteiras(lista_ativos, carteira, inicio, fim)"
   ]
  },
  {
   "cell_type": "code",
   "execution_count": null,
   "metadata": {
    "id": "fhNervPbNnzn"
   },
   "outputs": [],
   "source": []
  }
 ],
 "metadata": {
  "colab": {
   "name": "Módulo 01 - Parte 02.ipynb",
   "provenance": []
  },
  "kernelspec": {
   "display_name": "Python 3 (ipykernel)",
   "language": "python",
   "name": "python3"
  },
  "language_info": {
   "codemirror_mode": {
    "name": "ipython",
    "version": 3
   },
   "file_extension": ".py",
   "mimetype": "text/x-python",
   "name": "python",
   "nbconvert_exporter": "python",
   "pygments_lexer": "ipython3",
   "version": "3.9.12"
  }
 },
 "nbformat": 4,
 "nbformat_minor": 1
}
